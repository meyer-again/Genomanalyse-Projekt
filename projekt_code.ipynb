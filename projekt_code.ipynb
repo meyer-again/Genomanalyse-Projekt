{
 "cells": [
  {
   "cell_type": "code",
   "execution_count": 25,
   "id": "04f386f0-5455-4dde-a592-9e99d6cdef3c",
   "metadata": {
    "tags": []
   },
   "outputs": [
    {
     "name": "stdout",
     "output_type": "stream",
     "text": [
      "Anzahl der Sequenzen in der original Datei 2158\n",
      "Anzahl der Sequenzen in der sortierten Datei 962\n"
     ]
    }
   ],
   "source": [
    "import re\n",
    "original_datei = open('Azolla_filiculoides.genome_v1.2_rRNA.fa')\n",
    "zeilen = original_datei.readlines() #Inhalt aus der original Datei auslesen\n",
    "original_datei.close()\n",
    "zeilen_anzahl = len(zeilen) #Anzahl der Zeilen aus der original Datei\n",
    "sequenzen_anzahl = int(zeilen_anzahl/2) #Anzahl der Gene, die aus zwei Zeilen besten (eine Zeile, der Name, zweite Zeile Sequenz)\n",
    "inhalt_sequenzen = [] #Liste, in die die Sequenzen gespeichert werden\n",
    "inhalt_überschriften = [] #Liste, in die die Überschriften gespeichert werden\n",
    "i = 0\n",
    "while i < zeilen_anzahl: #While-Schleife, in der die Überschriften und Sequenzen getrennt werden\n",
    "    if i % 2 != 0: #falls die Zeile ungerade ist\n",
    "        inhalt_sequenzen.append(zeilen[i].upper()) #die Sequenzen werden in Großbuchstaben gespeichert\n",
    "    else:\n",
    "        inhalt_überschriften.append(zeilen[i]) #bei geraden Zeilen werden die Überschriften gespeichert\n",
    "    i+=1 #die Zeilenzahl wird erhöht\n",
    "sequenzen_sortiert = [] #Liste, in der nur nicht mehrfach vorkommende Sequenzen gespeichert werden\n",
    "sequenzen_doppelt = [0]*int(sequenzen_anzahl) #Liste, in der gezählt wird, ob eine Sequenz mehrfacht vorkommt\n",
    "sequenzen_zähler = -1 #zählt, an welcher Stelle eine Sequenz mehrfacht vorkommt\n",
    "for j in inhalt_sequenzen: \n",
    "    sequenzen_zähler+=1 #wird pro for-Schleife einmal erhöht\n",
    "    if j not in sequenzen_sortiert: #falls die Sequenz, noch nicht in der Liste: sequenzen_sortiert, vorkommt \n",
    "        sequenzen_doppelt[sequenzen_zähler]+=1 #in der Liste: sequenzen_doppelt, wird die 0 zur 1 geändert\n",
    "        sequenzen_sortiert.append(j) #diese Sequenzen werden an die Liste: sequenzen_sortiert, rangehängt\n",
    "anzahl_sequenzen = [inhalt_sequenzen.count(x)for x in sequenzen_sortiert] #Liste, in der gezählt wird, wie oft die Sequenzen aus der Liste: sequenzen_sortiert in der Liste: inhalt_sequenzen vorkommt\n",
    "anzahl_überschriften = [] #Liste, in der nur die Überschriften für die Sequenzen aus der Liste: sequenzen_sortiert gespeichert werden\n",
    "schleifenzähler = -1 #zählt, an welcher Stelle eine Sequenz mehrfach vorkommt\n",
    "for k in inhalt_überschriften:\n",
    "    schleifenzähler+=1 #wird pro for-Schleife einmal erhöht\n",
    "    if sequenzen_doppelt[schleifenzähler] == 1: #falls in der Liste: sequenzen_doppelt eine 1 steht, kommt diese Sequenz nur einmal vor\n",
    "        anzahl_überschriften.append(k) #die Überschrift, die zu den Sequenzen aus der Liste: sequenzen_sortiert passen, werden angehängt\n",
    "        \n",
    "neue_datei = open('Azolla_sortiert.fa', 'a') #neue Datei erstelln\n",
    "y=0\n",
    "while y < len(anzahl_sequenzen): #While-Schleife in der die Überschriften, Anzahl der Wiederholungen und Sequnzen zusammengefügt werde\n",
    "    überschriften_mit_anzahl = str(anzahl_überschriften[y])+'_'+str(anzahl_sequenzen[y])+'x' #Überschriften und Anzahl der Wiederholungen werden zusammengefügt\n",
    "    überschriften_mit_anzahl = re.sub('\\n','',überschriften_mit_anzahl) #Zeilenumbruch nach der Überschrift entfernt\n",
    "    zusammengesetzt = überschriften_mit_anzahl+'\\n'+str(sequenzen_sortiert[y]) #Sequenz wir an die Überschrift rangehängt\n",
    "    neue_datei.write(zusammengesetzt) #alles wird in die neue Datei geschrieben\n",
    "    y+=1\n",
    "neue_datei.close()\n",
    "print('Anzahl der Sequenzen in der original Datei ' + str(sequenzen_anzahl))\n",
    "print('Anzahl der Sequenzen in der sortierten Datei ' + str(len(sequenzen_sortiert)))"
   ]
  },
  {
   "cell_type": "code",
   "execution_count": null,
   "id": "d0371b5d-9257-4845-ba5a-0bf9819437fa",
   "metadata": {},
   "outputs": [],
   "source": []
  }
 ],
 "metadata": {
  "kernelspec": {
   "display_name": "Python 3 (ipykernel)",
   "language": "python",
   "name": "python3"
  },
  "language_info": {
   "codemirror_mode": {
    "name": "ipython",
    "version": 3
   },
   "file_extension": ".py",
   "mimetype": "text/x-python",
   "name": "python",
   "nbconvert_exporter": "python",
   "pygments_lexer": "ipython3",
   "version": "3.10.10"
  }
 },
 "nbformat": 4,
 "nbformat_minor": 5
}
